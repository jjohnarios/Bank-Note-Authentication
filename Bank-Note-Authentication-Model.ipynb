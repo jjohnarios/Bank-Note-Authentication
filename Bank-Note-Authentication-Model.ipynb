{
 "cells": [
  {
   "cell_type": "code",
   "execution_count": 43,
   "id": "golden-boring",
   "metadata": {},
   "outputs": [],
   "source": [
    "import pandas as pd\n",
    "import numpy as np\n",
    "from sklearn.preprocessing import StandardScaler\n",
    "from sklearn.pipeline import Pipeline\n",
    "from keras.models import Sequential\n",
    "from keras.layers import Dense\n",
    "from keras.wrappers.scikit_learn import KerasClassifier\n",
    "from sklearn.model_selection import StratifiedKFold\n",
    "from sklearn.model_selection import cross_val_score, train_test_split\n",
    "import tensorflow as tf"
   ]
  },
  {
   "cell_type": "code",
   "execution_count": 12,
   "id": "norman-wilson",
   "metadata": {},
   "outputs": [
    {
     "data": {
      "text/html": [
       "<div>\n",
       "<style scoped>\n",
       "    .dataframe tbody tr th:only-of-type {\n",
       "        vertical-align: middle;\n",
       "    }\n",
       "\n",
       "    .dataframe tbody tr th {\n",
       "        vertical-align: top;\n",
       "    }\n",
       "\n",
       "    .dataframe thead th {\n",
       "        text-align: right;\n",
       "    }\n",
       "</style>\n",
       "<table border=\"1\" class=\"dataframe\">\n",
       "  <thead>\n",
       "    <tr style=\"text-align: right;\">\n",
       "      <th></th>\n",
       "      <th>variance</th>\n",
       "      <th>skewness</th>\n",
       "      <th>curtosis</th>\n",
       "      <th>entropy</th>\n",
       "      <th>class</th>\n",
       "    </tr>\n",
       "  </thead>\n",
       "  <tbody>\n",
       "    <tr>\n",
       "      <th>0</th>\n",
       "      <td>3.62160</td>\n",
       "      <td>8.6661</td>\n",
       "      <td>-2.8073</td>\n",
       "      <td>-0.44699</td>\n",
       "      <td>0</td>\n",
       "    </tr>\n",
       "    <tr>\n",
       "      <th>1</th>\n",
       "      <td>4.54590</td>\n",
       "      <td>8.1674</td>\n",
       "      <td>-2.4586</td>\n",
       "      <td>-1.46210</td>\n",
       "      <td>0</td>\n",
       "    </tr>\n",
       "    <tr>\n",
       "      <th>2</th>\n",
       "      <td>3.86600</td>\n",
       "      <td>-2.6383</td>\n",
       "      <td>1.9242</td>\n",
       "      <td>0.10645</td>\n",
       "      <td>0</td>\n",
       "    </tr>\n",
       "    <tr>\n",
       "      <th>3</th>\n",
       "      <td>3.45660</td>\n",
       "      <td>9.5228</td>\n",
       "      <td>-4.0112</td>\n",
       "      <td>-3.59440</td>\n",
       "      <td>0</td>\n",
       "    </tr>\n",
       "    <tr>\n",
       "      <th>4</th>\n",
       "      <td>0.32924</td>\n",
       "      <td>-4.4552</td>\n",
       "      <td>4.5718</td>\n",
       "      <td>-0.98880</td>\n",
       "      <td>0</td>\n",
       "    </tr>\n",
       "  </tbody>\n",
       "</table>\n",
       "</div>"
      ],
      "text/plain": [
       "   variance  skewness  curtosis  entropy  class\n",
       "0   3.62160    8.6661   -2.8073 -0.44699      0\n",
       "1   4.54590    8.1674   -2.4586 -1.46210      0\n",
       "2   3.86600   -2.6383    1.9242  0.10645      0\n",
       "3   3.45660    9.5228   -4.0112 -3.59440      0\n",
       "4   0.32924   -4.4552    4.5718 -0.98880      0"
      ]
     },
     "execution_count": 12,
     "metadata": {},
     "output_type": "execute_result"
    }
   ],
   "source": [
    "df=pd.read_csv(\"BankNote_Authentication.csv\")\n",
    "df.head()"
   ]
  },
  {
   "cell_type": "code",
   "execution_count": 13,
   "id": "ceramic-opportunity",
   "metadata": {},
   "outputs": [],
   "source": [
    "features=[\"variance\",\"skewness\",\"curtosis\",\"entropy\"]\n",
    "X=df[features]\n",
    "y=df[\"class\"] # already labeled\n",
    "\n",
    "# Split dataset to train and test set 75%-25%\n",
    "X_train, X_test, y_train, y_test= train_test_split(X,y,test_size=0.25,random_state=0)"
   ]
  },
  {
   "cell_type": "code",
   "execution_count": 52,
   "id": "geographic-louisiana",
   "metadata": {},
   "outputs": [],
   "source": [
    "def create_nn():\n",
    "    '''\n",
    "    Creates simple Multilayer perceptron model.\n",
    "    '''\n",
    "    # model Layers\n",
    "    model=Sequential()\n",
    "    model.add(Dense(16,activation='relu',input_shape=(4,)))\n",
    "    model.add(Dense(1,activation='sigmoid'))\n",
    "    \n",
    "    #Compile model\n",
    "    model.compile(loss='binary_crossentropy',optimizer='adam',metrics=[\"accuracy\"])\n",
    "    return model"
   ]
  },
  {
   "cell_type": "code",
   "execution_count": 53,
   "id": "neural-capital",
   "metadata": {},
   "outputs": [
    {
     "name": "stdout",
     "output_type": "stream",
     "text": [
      "Model: \"sequential_12\"\n",
      "_________________________________________________________________\n",
      "Layer (type)                 Output Shape              Param #   \n",
      "=================================================================\n",
      "dense_22 (Dense)             (None, 16)                80        \n",
      "_________________________________________________________________\n",
      "dense_23 (Dense)             (None, 1)                 17        \n",
      "=================================================================\n",
      "Total params: 97\n",
      "Trainable params: 97\n",
      "Non-trainable params: 0\n",
      "_________________________________________________________________\n",
      "None\n"
     ]
    }
   ],
   "source": [
    "model=create_nn()\n",
    "print(model.summary())\n",
    "\n",
    "# 97= (16 * (4+1) + 1 * (16+1))"
   ]
  },
  {
   "cell_type": "code",
   "execution_count": 54,
   "id": "rocky-proposal",
   "metadata": {},
   "outputs": [
    {
     "data": {
      "image/png": "[encoded data removed]",
      "text/plain": [
       "<IPython.core.display.Image object>"
      ]
     },
     "execution_count": 54,
     "metadata": {},
     "output_type": "execute_result"
    }
   ],
   "source": [
    "tf.keras.utils.plot_model(model,show_shapes=True,show_layer_names=True)"
   ]
  },
  {
   "cell_type": "code",
   "execution_count": 55,
   "id": "descending-glossary",
   "metadata": {},
   "outputs": [],
   "source": [
    "# estimators\n",
    "estimators=[]\n",
    "estimators.append(('standarize',StandardScaler()))\n",
    "estimators.append(('mlp',KerasClassifier(build_fn=create_nn,epochs=50,\n",
    "                                         batch_size=5,verbose=2)))\n",
    "# Pipeline\n",
    "pipeline=Pipeline(estimators)\n",
    "# 5-Fold cross validation\n",
    "kfold=StratifiedKFold(n_splits=5,shuffle=True)\n"
   ]
  },
  {
   "cell_type": "code",
   "execution_count": 59,
   "id": "deluxe-smooth",
   "metadata": {
    "scrolled": false
   },
   "outputs": [
    {
     "name": "stdout",
     "output_type": "stream",
     "text": [
      "Epoch 1/50\n",
      " - 0s - loss: 0.6521 - accuracy: 0.7366\n",
      "Epoch 2/50\n",
      " - 0s - loss: 0.3930 - accuracy: 0.9261\n",
      "Epoch 3/50\n",
      " - 0s - loss: 0.2312 - accuracy: 0.9572\n",
      "Epoch 4/50\n",
      " - 0s - loss: 0.1461 - accuracy: 0.9747\n",
      "Epoch 5/50\n",
      " - 0s - loss: 0.1009 - accuracy: 0.9767\n",
      "Epoch 6/50\n",
      " - 0s - loss: 0.0756 - accuracy: 0.9815\n",
      "Epoch 7/50\n",
      " - 0s - loss: 0.0605 - accuracy: 0.9845\n",
      "Epoch 8/50\n",
      " - 0s - loss: 0.0509 - accuracy: 0.9835\n",
      "Epoch 9/50\n",
      " - 0s - loss: 0.0438 - accuracy: 0.9883\n",
      "Epoch 10/50\n",
      " - 0s - loss: 0.0386 - accuracy: 0.9903\n",
      "Epoch 11/50\n",
      " - 0s - loss: 0.0343 - accuracy: 0.9893\n",
      "Epoch 12/50\n",
      " - 0s - loss: 0.0309 - accuracy: 0.9903\n",
      "Epoch 13/50\n",
      " - 0s - loss: 0.0281 - accuracy: 0.9913\n",
      "Epoch 14/50\n",
      " - 0s - loss: 0.0256 - accuracy: 0.9922\n",
      "Epoch 15/50\n",
      " - 0s - loss: 0.0235 - accuracy: 0.9922\n",
      "Epoch 16/50\n",
      " - 0s - loss: 0.0215 - accuracy: 0.9951\n",
      "Epoch 17/50\n",
      " - 0s - loss: 0.0197 - accuracy: 1.0000\n",
      "Epoch 18/50\n",
      " - 0s - loss: 0.0183 - accuracy: 1.0000\n",
      "Epoch 19/50\n",
      " - 0s - loss: 0.0168 - accuracy: 1.0000\n",
      "Epoch 20/50\n",
      " - 0s - loss: 0.0155 - accuracy: 1.0000\n",
      "Epoch 21/50\n",
      " - 0s - loss: 0.0144 - accuracy: 1.0000\n",
      "Epoch 22/50\n",
      " - 0s - loss: 0.0132 - accuracy: 1.0000\n",
      "Epoch 23/50\n",
      " - 0s - loss: 0.0122 - accuracy: 1.0000\n",
      "Epoch 24/50\n",
      " - 0s - loss: 0.0113 - accuracy: 1.0000\n",
      "Epoch 25/50\n",
      " - 0s - loss: 0.0104 - accuracy: 1.0000\n",
      "Epoch 26/50\n",
      " - 0s - loss: 0.0096 - accuracy: 1.0000\n",
      "Epoch 27/50\n",
      " - 0s - loss: 0.0089 - accuracy: 1.0000\n",
      "Epoch 28/50\n",
      " - 0s - loss: 0.0083 - accuracy: 1.0000\n",
      "Epoch 29/50\n",
      " - 0s - loss: 0.0076 - accuracy: 1.0000\n",
      "Epoch 30/50\n",
      " - 0s - loss: 0.0071 - accuracy: 1.0000\n",
      "Epoch 31/50\n",
      " - 0s - loss: 0.0066 - accuracy: 1.0000\n",
      "Epoch 32/50\n",
      " - 0s - loss: 0.0061 - accuracy: 1.0000\n",
      "Epoch 33/50\n",
      " - 0s - loss: 0.0057 - accuracy: 1.0000\n",
      "Epoch 34/50\n",
      " - 0s - loss: 0.0052 - accuracy: 1.0000\n",
      "Epoch 35/50\n",
      " - 0s - loss: 0.0049 - accuracy: 1.0000\n",
      "Epoch 36/50\n",
      " - 0s - loss: 0.0046 - accuracy: 1.0000\n",
      "Epoch 37/50\n",
      " - 0s - loss: 0.0042 - accuracy: 1.0000\n",
      "Epoch 38/50\n",
      " - 0s - loss: 0.0039 - accuracy: 1.0000\n",
      "Epoch 39/50\n",
      " - 0s - loss: 0.0037 - accuracy: 1.0000\n",
      "Epoch 40/50\n",
      " - 0s - loss: 0.0034 - accuracy: 1.0000\n",
      "Epoch 41/50\n",
      " - 0s - loss: 0.0032 - accuracy: 1.0000\n",
      "Epoch 42/50\n",
      " - 0s - loss: 0.0030 - accuracy: 1.0000\n",
      "Epoch 43/50\n",
      " - 0s - loss: 0.0028 - accuracy: 1.0000\n",
      "Epoch 44/50\n",
      " - 0s - loss: 0.0026 - accuracy: 1.0000\n",
      "Epoch 45/50\n",
      " - 0s - loss: 0.0024 - accuracy: 1.0000\n",
      "Epoch 46/50\n",
      " - 0s - loss: 0.0023 - accuracy: 1.0000\n",
      "Epoch 47/50\n",
      " - 0s - loss: 0.0021 - accuracy: 1.0000\n",
      "Epoch 48/50\n",
      " - 0s - loss: 0.0020 - accuracy: 1.0000\n",
      "Epoch 49/50\n",
      " - 0s - loss: 0.0018 - accuracy: 1.0000\n",
      "Epoch 50/50\n",
      " - 0s - loss: 0.0017 - accuracy: 1.0000\n"
     ]
    }
   ],
   "source": [
    "fitted=pipeline.fit(X_train,y_train)"
   ]
  },
  {
   "cell_type": "code",
   "execution_count": 64,
   "id": "painted-cause",
   "metadata": {},
   "outputs": [
    {
     "name": "stdout",
     "output_type": "stream",
     "text": [
      "Test Score:  1.0\n"
     ]
    }
   ],
   "source": [
    "score=pipeline.score(X_test,y_test)\n",
    "print(\"Test Score: \",score)"
   ]
  },
  {
   "cell_type": "markdown",
   "id": "rubber-barbados",
   "metadata": {},
   "source": [
    "Because of the quality (not evaluated) and size of the data we can reach 100% accuracy on train and test sets."
   ]
  },
  {
   "cell_type": "code",
   "execution_count": 67,
   "id": "entertaining-escape",
   "metadata": {},
   "outputs": [
    {
     "data": {
      "text/plain": [
       "['pipeline.pkl']"
      ]
     },
     "execution_count": 67,
     "metadata": {},
     "output_type": "execute_result"
    }
   ],
   "source": [
    "#save picle\n",
    "import joblib\n",
    "joblib.dump(pipeline,'pipeline.pkl')"
   ]
  },
  {
   "cell_type": "code",
   "execution_count": 68,
   "id": "stone-choir",
   "metadata": {},
   "outputs": [
    {
     "data": {
      "text/plain": [
       "array([[0]], dtype=int64)"
      ]
     },
     "execution_count": 68,
     "metadata": {},
     "output_type": "execute_result"
    }
   ],
   "source": [
    "#Check everything works fine\n",
    "pip=joblib.load('pipeline.pkl')\n",
    "pip.predict([[3.62160,8.6661,-2.8073,-0.44699]])"
   ]
  }
 ],
 "metadata": {
  "kernelspec": {
   "display_name": "Python [conda env:nilmtk-env] *",
   "language": "python",
   "name": "conda-env-nilmtk-env-py"
  },
  "language_info": {
   "codemirror_mode": {
    "name": "ipython",
    "version": 3
   },
   "file_extension": ".py",
   "mimetype": "text/x-python",
   "name": "python",
   "nbconvert_exporter": "python",
   "pygments_lexer": "ipython3",
   "version": "3.6.13"
  }
 },
 "nbformat": 4,
 "nbformat_minor": 5
}
