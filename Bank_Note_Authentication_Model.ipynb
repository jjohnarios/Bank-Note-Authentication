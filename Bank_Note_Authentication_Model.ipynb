{
 "cells": [
  {
   "cell_type": "code",
   "execution_count": 59,
   "id": "golden-boring",
   "metadata": {},
   "outputs": [],
   "source": [
    "import pandas as pd\n",
    "import numpy as np\n",
    "from sklearn.preprocessing import StandardScaler\n",
    "from sklearn.pipeline import Pipeline\n",
    "from keras.models import Sequential\n",
    "from keras.layers import Dense\n",
    "from keras.wrappers.scikit_learn import KerasClassifier\n",
    "from sklearn.model_selection import StratifiedKFold\n",
    "from sklearn.model_selection import cross_val_score, train_test_split\n",
    "import tensorflow as tf\n",
    "from keras.models import model_from_json\n",
    "from keras.layers import Dropout"
   ]
  },
  {
   "cell_type": "code",
   "execution_count": 60,
   "id": "norman-wilson",
   "metadata": {},
   "outputs": [
    {
     "data": {
      "text/html": [
       "<div>\n",
       "<style scoped>\n",
       "    .dataframe tbody tr th:only-of-type {\n",
       "        vertical-align: middle;\n",
       "    }\n",
       "\n",
       "    .dataframe tbody tr th {\n",
       "        vertical-align: top;\n",
       "    }\n",
       "\n",
       "    .dataframe thead th {\n",
       "        text-align: right;\n",
       "    }\n",
       "</style>\n",
       "<table border=\"1\" class=\"dataframe\">\n",
       "  <thead>\n",
       "    <tr style=\"text-align: right;\">\n",
       "      <th></th>\n",
       "      <th>variance</th>\n",
       "      <th>skewness</th>\n",
       "      <th>curtosis</th>\n",
       "      <th>entropy</th>\n",
       "      <th>class</th>\n",
       "    </tr>\n",
       "  </thead>\n",
       "  <tbody>\n",
       "    <tr>\n",
       "      <th>0</th>\n",
       "      <td>3.62160</td>\n",
       "      <td>8.6661</td>\n",
       "      <td>-2.8073</td>\n",
       "      <td>-0.44699</td>\n",
       "      <td>0</td>\n",
       "    </tr>\n",
       "    <tr>\n",
       "      <th>1</th>\n",
       "      <td>4.54590</td>\n",
       "      <td>8.1674</td>\n",
       "      <td>-2.4586</td>\n",
       "      <td>-1.46210</td>\n",
       "      <td>0</td>\n",
       "    </tr>\n",
       "    <tr>\n",
       "      <th>2</th>\n",
       "      <td>3.86600</td>\n",
       "      <td>-2.6383</td>\n",
       "      <td>1.9242</td>\n",
       "      <td>0.10645</td>\n",
       "      <td>0</td>\n",
       "    </tr>\n",
       "    <tr>\n",
       "      <th>3</th>\n",
       "      <td>3.45660</td>\n",
       "      <td>9.5228</td>\n",
       "      <td>-4.0112</td>\n",
       "      <td>-3.59440</td>\n",
       "      <td>0</td>\n",
       "    </tr>\n",
       "    <tr>\n",
       "      <th>4</th>\n",
       "      <td>0.32924</td>\n",
       "      <td>-4.4552</td>\n",
       "      <td>4.5718</td>\n",
       "      <td>-0.98880</td>\n",
       "      <td>0</td>\n",
       "    </tr>\n",
       "  </tbody>\n",
       "</table>\n",
       "</div>"
      ],
      "text/plain": [
       "   variance  skewness  curtosis  entropy  class\n",
       "0   3.62160    8.6661   -2.8073 -0.44699      0\n",
       "1   4.54590    8.1674   -2.4586 -1.46210      0\n",
       "2   3.86600   -2.6383    1.9242  0.10645      0\n",
       "3   3.45660    9.5228   -4.0112 -3.59440      0\n",
       "4   0.32924   -4.4552    4.5718 -0.98880      0"
      ]
     },
     "execution_count": 60,
     "metadata": {},
     "output_type": "execute_result"
    }
   ],
   "source": [
    "df=pd.read_csv(\"BankNote_Authentication.csv\")\n",
    "df.head()"
   ]
  },
  {
   "cell_type": "code",
   "execution_count": 61,
   "id": "ceramic-opportunity",
   "metadata": {},
   "outputs": [],
   "source": [
    "features=[\"variance\",\"skewness\",\"curtosis\",\"entropy\"]\n",
    "X=df[features]\n",
    "y=df[\"class\"] # already labeled\n",
    "\n",
    "# Split dataset to train and test set 75%-25%\n",
    "X_train, X_test, y_train, y_test= train_test_split(X,y,test_size=0.25,random_state=0)"
   ]
  },
  {
   "cell_type": "code",
   "execution_count": 77,
   "id": "geographic-louisiana",
   "metadata": {},
   "outputs": [],
   "source": [
    "def create_nn():\n",
    "    '''\n",
    "    Creates simple Multilayer perceptron model.\n",
    "    '''\n",
    "    # model Layers\n",
    "    model=Sequential()\n",
    "    model.add(Dropout(0.2, input_shape=(4,)))\n",
    "    model.add(Dense(128,activation='relu'))\n",
    "    model.add(Dense(64,activation='relu'))\n",
    "    model.add(Dense(1,activation='sigmoid'))\n",
    "    \n",
    "    #Compile model\n",
    "    model.compile(loss='binary_crossentropy',optimizer='adam',metrics=[\"accuracy\"])\n",
    "    return model"
   ]
  },
  {
   "cell_type": "code",
   "execution_count": 78,
   "id": "major-commerce",
   "metadata": {},
   "outputs": [],
   "source": [
    "# Scaling\n",
    "scaler=StandardScaler()\n",
    "X=scaler.fit_transform(X)"
   ]
  },
  {
   "cell_type": "code",
   "execution_count": 79,
   "id": "neural-capital",
   "metadata": {},
   "outputs": [
    {
     "name": "stdout",
     "output_type": "stream",
     "text": [
      "Model: \"sequential_10\"\n",
      "_________________________________________________________________\n",
      "Layer (type)                 Output Shape              Param #   \n",
      "=================================================================\n",
      "dropout_4 (Dropout)          (None, 4)                 0         \n",
      "_________________________________________________________________\n",
      "dense_18 (Dense)             (None, 128)               640       \n",
      "_________________________________________________________________\n",
      "dense_19 (Dense)             (None, 64)                8256      \n",
      "_________________________________________________________________\n",
      "dense_20 (Dense)             (None, 1)                 65        \n",
      "=================================================================\n",
      "Total params: 8,961\n",
      "Trainable params: 8,961\n",
      "Non-trainable params: 0\n",
      "_________________________________________________________________\n",
      "None\n"
     ]
    }
   ],
   "source": [
    "model=create_nn()\n",
    "print(model.summary())\n",
    "\n",
    "# 97= (16 * (4+1) + 1 * (16+1))"
   ]
  },
  {
   "cell_type": "code",
   "execution_count": 80,
   "id": "immune-republican",
   "metadata": {},
   "outputs": [
    {
     "data": {
      "image/png": "[encoded data removed]",
      "text/plain": [
       "<IPython.core.display.Image object>"
      ]
     },
     "execution_count": 80,
     "metadata": {},
     "output_type": "execute_result"
    }
   ],
   "source": [
    "tf.keras.utils.plot_model(model,show_shapes=True,show_layer_names=True)"
   ]
  },
  {
   "cell_type": "code",
   "execution_count": 81,
   "id": "resistant-pattern",
   "metadata": {},
   "outputs": [
    {
     "name": "stdout",
     "output_type": "stream",
     "text": [
      "Epoch 1/50\n",
      " - 0s - loss: 0.3074 - accuracy: 0.8581\n",
      "Epoch 2/50\n",
      " - 0s - loss: 0.1874 - accuracy: 0.9232\n",
      "Epoch 3/50\n",
      " - 0s - loss: 0.2027 - accuracy: 0.9155\n",
      "Epoch 4/50\n",
      " - 0s - loss: 0.2021 - accuracy: 0.9135\n",
      "Epoch 5/50\n",
      " - 0s - loss: 0.1997 - accuracy: 0.9096\n",
      "Epoch 6/50\n",
      " - 0s - loss: 0.2144 - accuracy: 0.9096\n",
      "Epoch 7/50\n",
      " - 0s - loss: 0.1837 - accuracy: 0.9213\n",
      "Epoch 8/50\n",
      " - 0s - loss: 0.1911 - accuracy: 0.9232\n",
      "Epoch 9/50\n",
      " - 0s - loss: 0.1865 - accuracy: 0.9213\n",
      "Epoch 10/50\n",
      " - 0s - loss: 0.1753 - accuracy: 0.9261\n",
      "Epoch 11/50\n",
      " - 0s - loss: 0.1593 - accuracy: 0.9339\n",
      "Epoch 12/50\n",
      " - 0s - loss: 0.1803 - accuracy: 0.9232\n",
      "Epoch 13/50\n",
      " - 0s - loss: 0.1881 - accuracy: 0.9223\n",
      "Epoch 14/50\n",
      " - 0s - loss: 0.1833 - accuracy: 0.9184\n",
      "Epoch 15/50\n",
      " - 0s - loss: 0.1842 - accuracy: 0.9155\n",
      "Epoch 16/50\n",
      " - 0s - loss: 0.1625 - accuracy: 0.9291\n",
      "Epoch 17/50\n",
      " - 0s - loss: 0.1731 - accuracy: 0.9213\n",
      "Epoch 18/50\n",
      " - 0s - loss: 0.1842 - accuracy: 0.9203\n",
      "Epoch 19/50\n",
      " - 0s - loss: 0.1711 - accuracy: 0.9252\n",
      "Epoch 20/50\n",
      " - 0s - loss: 0.1616 - accuracy: 0.9329\n",
      "Epoch 21/50\n",
      " - 0s - loss: 0.1776 - accuracy: 0.9300\n",
      "Epoch 22/50\n",
      " - 0s - loss: 0.1582 - accuracy: 0.9320\n",
      "Epoch 23/50\n",
      " - 0s - loss: 0.1938 - accuracy: 0.9116\n",
      "Epoch 24/50\n",
      " - 0s - loss: 0.1903 - accuracy: 0.9164\n",
      "Epoch 25/50\n",
      " - 0s - loss: 0.1846 - accuracy: 0.9213\n",
      "Epoch 26/50\n",
      " - 0s - loss: 0.1695 - accuracy: 0.9281\n",
      "Epoch 27/50\n",
      " - 0s - loss: 0.1540 - accuracy: 0.9446\n",
      "Epoch 28/50\n",
      " - 0s - loss: 0.1498 - accuracy: 0.9368\n",
      "Epoch 29/50\n",
      " - 0s - loss: 0.1928 - accuracy: 0.9223\n",
      "Epoch 30/50\n",
      " - 0s - loss: 0.1403 - accuracy: 0.9417\n",
      "Epoch 31/50\n",
      " - 0s - loss: 0.1408 - accuracy: 0.9407\n",
      "Epoch 32/50\n",
      " - 0s - loss: 0.1719 - accuracy: 0.9291\n",
      "Epoch 33/50\n",
      " - 0s - loss: 0.1540 - accuracy: 0.9310\n",
      "Epoch 34/50\n",
      " - 0s - loss: 0.1516 - accuracy: 0.9378\n",
      "Epoch 35/50\n",
      " - 0s - loss: 0.1347 - accuracy: 0.9397\n",
      "Epoch 36/50\n",
      " - 0s - loss: 0.1552 - accuracy: 0.9378\n",
      "Epoch 37/50\n",
      " - 0s - loss: 0.1474 - accuracy: 0.9368\n",
      "Epoch 38/50\n",
      " - 0s - loss: 0.1559 - accuracy: 0.9271\n",
      "Epoch 39/50\n",
      " - 0s - loss: 0.1591 - accuracy: 0.9281\n",
      "Epoch 40/50\n",
      " - 0s - loss: 0.1286 - accuracy: 0.9466\n",
      "Epoch 41/50\n",
      " - 0s - loss: 0.1259 - accuracy: 0.9456\n",
      "Epoch 42/50\n",
      " - 0s - loss: 0.1385 - accuracy: 0.9388\n",
      "Epoch 43/50\n",
      " - 0s - loss: 0.1419 - accuracy: 0.9388\n",
      "Epoch 44/50\n",
      " - 0s - loss: 0.1429 - accuracy: 0.9320\n",
      "Epoch 45/50\n",
      " - 0s - loss: 0.1397 - accuracy: 0.9417\n",
      "Epoch 46/50\n",
      " - 0s - loss: 0.1358 - accuracy: 0.9427\n",
      "Epoch 47/50\n",
      " - 0s - loss: 0.1362 - accuracy: 0.9436\n",
      "Epoch 48/50\n",
      " - 0s - loss: 0.1274 - accuracy: 0.9466\n",
      "Epoch 49/50\n",
      " - 0s - loss: 0.1565 - accuracy: 0.9397\n",
      "Epoch 50/50\n",
      " - 0s - loss: 0.1417 - accuracy: 0.9417\n"
     ]
    },
    {
     "data": {
      "text/plain": [
       "<keras.callbacks.callbacks.History at 0x38dc4978>"
      ]
     },
     "execution_count": 81,
     "metadata": {},
     "output_type": "execute_result"
    }
   ],
   "source": [
    "model.fit(X_train,y_train,epochs=50,batch_size=5,verbose=2)"
   ]
  },
  {
   "cell_type": "code",
   "execution_count": 82,
   "id": "painted-cause",
   "metadata": {},
   "outputs": [
    {
     "name": "stdout",
     "output_type": "stream",
     "text": [
      "343/343 [==============================] - 0s 134us/step\n",
      "Model accuracy: 0.9970845580101013\n",
      "Model loss: 0.03502017462696695\n"
     ]
    }
   ],
   "source": [
    "score=model.evaluate(X_test,y_test)\n",
    "print(\"Model accuracy: {}\\nModel loss: {}\".format(score[1],score[0]))"
   ]
  },
  {
   "cell_type": "markdown",
   "id": "rubber-barbados",
   "metadata": {},
   "source": [
    "Because of the quality (not evaluated) and size of the data we can reach 100% accuracy on train and test sets."
   ]
  },
  {
   "cell_type": "code",
   "execution_count": 83,
   "id": "atmospheric-white",
   "metadata": {},
   "outputs": [],
   "source": [
    "# SAVE MODEL to reuse\n",
    "model.save(\"model.h5\")"
   ]
  },
  {
   "cell_type": "code",
   "execution_count": 90,
   "id": "imposed-variable",
   "metadata": {},
   "outputs": [
    {
     "name": "stdout",
     "output_type": "stream",
     "text": [
      "343/343 [==============================] - 0s 163us/step\n"
     ]
    },
    {
     "data": {
      "text/plain": [
       "[0.03502017462696695, 0.9970845580101013]"
      ]
     },
     "execution_count": 90,
     "metadata": {},
     "output_type": "execute_result"
    }
   ],
   "source": [
    "# from keras.models import load_model\n",
    "\n",
    "# model2 = load_model('model.h5')\n",
    "# model2.evaluate(X_test,y_test)"
   ]
  }
 ],
 "metadata": {
  "kernelspec": {
   "display_name": "Python [conda env:nilmtk-env] *",
   "language": "python",
   "name": "conda-env-nilmtk-env-py"
  },
  "language_info": {
   "codemirror_mode": {
    "name": "ipython",
    "version": 3
   },
   "file_extension": ".py",
   "mimetype": "text/x-python",
   "name": "python",
   "nbconvert_exporter": "python",
   "pygments_lexer": "ipython3",
   "version": "3.6.13"
  }
 },
 "nbformat": 4,
 "nbformat_minor": 5
}
